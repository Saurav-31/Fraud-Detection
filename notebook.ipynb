{
  "cells": [
    {
      "cell_type": "markdown",
      "metadata": {
        "_cell_guid": "b132247d-6f04-5a90-1eec-7f0872a70a98",
        "_uuid": "602ebd225441ed52d6939bbc786b20c3717ca2db"
      },
      "source": [
        "##Hi all as we know credit card fraud detection will have a imbalanced data i.e having more number of normal class than the number of fraud class\n",
        "\n",
        "###In this I will use Basic method of handling imbalance data which are\n",
        " ** This all I have done by using Analytics Vidya's blog please find the link [Analytics Vidya](https://www.analyticsvidhya.com/blog/2017/03/read-commonly-used-formats-using-python/)  **\n",
        "\n",
        "Undersampling:- it means taking the less number of majority class (In our case taking less number of Normal transactions so that our new data will be balanced\n",
        "\n",
        "Oversampling: it means using replicating the data of minority class (fraud class) so that we can have a balanced data\n",
        "\n",
        "SMOTE: it is also a type of oversampling but in this we will make the synthetic example of Minority data and will give as a balanced data\n",
        "\n",
        "First I will start with the Undersampling and will try to classify using these Models\n",
        "1. Decision Tree Classifier/ Random Forest Classifier\n",
        "\n",
        "2. Logistic regression\n",
        "\n",
        "3. SVM\n",
        "\n",
        "4. XGboost"
      ],
      "outputs": [],
      "execution_count": null
    },
    {
      "cell_type": "code",
      "execution_count": null,
      "metadata": {
        "_cell_guid": "73c46801-7f23-67a2-47e8-03256085f659",
        "_uuid": "b1a4a3a008f59c3d9cdc636b012bba10e32987a9"
      },
      "outputs": [],
      "source": [
        "# This Python 3 environment comes with many helpful analytics libraries installed\n",
        "# It is defined by the kaggle/python docker image: https://github.com/kaggle/docker-python\n",
        "# For example, here's several helpful packages to load in \n",
        "\n",
        "import numpy as np # linear algebra\n",
        "import pandas as pd # data processing, CSV file I/O (e.g. pd.read_csv)\n",
        "\n",
        "# Input data files are available in the \"../input/\" directory.\n",
        "# For example, running this (by clicking run or pressing Shift+Enter) will list the files in the input directory\n",
        "\n",
        "from subprocess import check_output\n",
        "print(check_output([\"ls\", \"../input\"]).decode(\"utf8\"))\n",
        "\n",
        "# Any results you write to the current directory are saved as output."
      ]
    },
    {
      "cell_type": "markdown",
      "metadata": {
        "_cell_guid": "228eec75-5856-5411-7e59-a4d419c2e520",
        "_uuid": "ea02d510165086ab96eee10f7181d410e42d7d3c"
      },
      "source": [
        "###Lets start with Importing Libraries and data"
      ],
      "outputs": [],
      "execution_count": null
    },
    {
      "cell_type": "code",
      "execution_count": null,
      "metadata": {
        "_cell_guid": "7acc51d2-e9db-908f-9b91-386e23629483",
        "_uuid": "24be08a0357f046661641fb390b0473c10296940"
      },
      "outputs": [],
      "source": [
        "import pandas as pd # to import csv and for data manipulation\n",
        "import matplotlib.pyplot as plt # to plot graph\n",
        "import seaborn as sns # for intractve graphs\n",
        "import numpy as np # for linear algebra\n",
        "import datetime # to dela with date and time\n",
        "%matplotlib inline\n",
        "from sklearn.preprocessing import StandardScaler # for preprocessing the data\n",
        "from sklearn.ensemble import RandomForestClassifier # Random forest classifier\n",
        "from sklearn.tree import DecisionTreeClassifier # for Decision Tree classifier\n",
        "from sklearn.svm import SVC # for SVM classification\n",
        "from sklearn.linear_model import LogisticRegression\n",
        "from sklearn.cross_validation import train_test_split # to split the data\n",
        "from sklearn.cross_validation import KFold # For cross vbalidation\n",
        "from sklearn.model_selection import GridSearchCV # for tunnig hyper parameter it will use all combination of given parameters\n",
        "from sklearn.model_selection import RandomizedSearchCV # same for tunning hyper parameter but will use random combinations of parameters\n",
        "from sklearn.metrics import confusion_matrix,recall_score,precision_recall_curve,auc,roc_curve,roc_auc_score,classification_report\n",
        "import warnings\n",
        "warnings.filterwarnings('ignore')"
      ]
    },
    {
      "cell_type": "code",
      "execution_count": null,
      "metadata": {
        "_cell_guid": "83f83459-d9f6-e2fd-9d11-77ee19a48ff0",
        "_uuid": "88a22d723376a570aa31583b85e288c16c7004f9"
      },
      "outputs": [],
      "source": [
        "data = pd.read_csv(\"../input/creditcard.csv\",header = 0)"
      ]
    },
    {
      "cell_type": "markdown",
      "metadata": {
        "_cell_guid": "9022d43c-a547-8ab0-bbfc-dab6fb4b7c11",
        "_uuid": "8e1ed4b2193eedf5115d062f6d94148a1ea7be95"
      },
      "source": [
        "####Now explore the data to get insight in it"
      ],
      "outputs": [],
      "execution_count": null
    },
    {
      "cell_type": "code",
      "execution_count": null,
      "metadata": {
        "_cell_guid": "be938861-a429-3bd1-eb90-45b7616770ee",
        "_uuid": "834d0bd43968ce0667ffbba16426859a16470c3a"
      },
      "outputs": [],
      "source": [
        "data.info()"
      ]
    },
    {
      "cell_type": "markdown",
      "metadata": {
        "_cell_guid": "6a3e8d76-0840-cf04-d4f1-e68ffddd442f",
        "_uuid": "217155c167e8b4f5196a4789dc3976c7d4e7398f"
      },
      "source": [
        "1. Hence we can see there are 284,807 rows and 31 columns which is a huge data\n",
        "2.  Time is also in float here mean it can be only seconds starting from a particular time"
      ],
      "outputs": [],
      "execution_count": null
    },
    {
      "cell_type": "code",
      "execution_count": null,
      "metadata": {
        "_cell_guid": "03b4ce97-1f9f-ab4a-bcda-18afa1e775e6",
        "_uuid": "10a22828405c9083d186f7513ebcb6619a4532ba"
      },
      "outputs": [],
      "source": [
        "# Now lets check the class distributions\n",
        "sns.countplot(\"Class\",data=data)"
      ]
    },
    {
      "cell_type": "markdown",
      "metadata": {
        "_cell_guid": "b07af191-1a1b-27fb-9b3c-462f2df5cf20",
        "_uuid": "ec41d24ebaaa2fba67e5f1a97d0da30c1bc356d9"
      },
      "source": [
        "1. As we know data is imbalanced and this graph also confirmed it "
      ],
      "outputs": [],
      "execution_count": null
    },
    {
      "cell_type": "code",
      "execution_count": null,
      "metadata": {
        "_cell_guid": "8c79df42-9432-e39e-cb27-6c53245f9ac5",
        "_uuid": "bfbc77809522e425bb1c0822d91aec303f8d531d"
      },
      "outputs": [],
      "source": [
        "# now let us check in the number of Percentage\n",
        "Count_Normal_transacation = len(data[data[\"Class\"]==0]) # normal transaction are repersented by 0\n",
        "Count_Fraud_transacation = len(data[data[\"Class\"]==1]) # fraud by 1\n",
        "Percentage_of_Normal_transacation = Count_Normal_transacation/(Count_Normal_transacation+Count_Fraud_transacation)\n",
        "print(\"percentage of normal transacation is\",Percentage_of_Normal_transacation*100)\n",
        "Percentage_of_Fraud_transacation= Count_Fraud_transacation/(Count_Normal_transacation+Count_Fraud_transacation)\n",
        "print(\"percentage of fraud transacation\",Percentage_of_Fraud_transacation*100)"
      ]
    },
    {
      "cell_type": "markdown",
      "metadata": {
        "_cell_guid": "6bdeb418-1ad4-4101-a97f-218cad9d60b7",
        "_uuid": "408395723b41170e46bf0858b8c88fdf99fcba95"
      },
      "source": [
        "1. Hence in data there is only 0.17 % are the fraud transcation while 99.83 are valid transcation\n",
        "2. So now we have to do resampling of this data\n",
        "3. before doing resampling lets have look at the amount related to valid transcation and fraud transcation"
      ],
      "outputs": [],
      "execution_count": null
    },
    {
      "cell_type": "code",
      "execution_count": null,
      "metadata": {
        "_cell_guid": "29942ac2-ea51-aa4f-ae2f-4d245908fb45",
        "_uuid": "8d4025ba37134a169eb6be5f2743277982f6d0b7"
      },
      "outputs": [],
      "source": [
        "Fraud_transacation = data[data[\"Class\"]==1]\n",
        "Normal_transacation= data[data[\"Class\"]==0]\n",
        "plt.figure(figsize=(10,6))\n",
        "plt.subplot(121)\n",
        "Fraud_transacation.Amount.plot.hist(title=\"Fraud Transacation\")\n",
        "plt.subplot(122)\n",
        "Normal_transacation.Amount.plot.hist(title=\"Normal Transaction\")"
      ]
    },
    {
      "cell_type": "code",
      "execution_count": null,
      "metadata": {
        "_cell_guid": "1c54fd02-d25e-0763-5c15-b35e3b0df4d2",
        "_uuid": "4763c6cbfcdef47b17e962f1ce76ed3a4676902a"
      },
      "outputs": [],
      "source": [
        "# the distribution for Normal transction is not clear and it seams that all transaction are less than 2.5 K\n",
        "# So plot graph for same \n",
        "Fraud_transacation = data[data[\"Class\"]==1]\n",
        "Normal_transacation= data[data[\"Class\"]==0]\n",
        "plt.figure(figsize=(10,6))\n",
        "plt.subplot(121)\n",
        "Fraud_transacation[Fraud_transacation[\"Amount\"]<= 2500].Amount.plot.hist(title=\"Fraud Tranascation\")\n",
        "plt.subplot(122)\n",
        "Normal_transacation[Normal_transacation[\"Amount\"]<=2500].Amount.plot.hist(title=\"Normal Transaction\")"
      ]
    },
    {
      "cell_type": "markdown",
      "metadata": {
        "_cell_guid": "bf6856cc-3e0a-5579-b901-83bd51f3ffc4",
        "_uuid": "a3a9d1c94da8fef27dfe15d778c12ac42aad15e8"
      },
      "source": [
        "1. Here now after exploring data we can say there is no pattern in data\n",
        "2. Now lets start with resmapling of data"
      ],
      "outputs": [],
      "execution_count": null
    },
    {
      "cell_type": "markdown",
      "metadata": {
        "_cell_guid": "e7c06498-d474-1e15-ef69-7ead60df63c6",
        "_uuid": "4afaf2eb770f71b1d5227f49baae75aeeb6b6d29"
      },
      "source": [
        "###ReSampling - Under Sampling"
      ],
      "outputs": [],
      "execution_count": null
    },
    {
      "cell_type": "markdown",
      "metadata": {
        "_cell_guid": "08fb5763-fadd-e215-0ad4-33c9ee97ec7b",
        "_uuid": "f56ddfedfbcff21b8bc72786aab9cd9f8eda3204"
      },
      "source": [
        "Before re sampling lets have look at the different accuracy matrices\n",
        "\n",
        "Accuracy = TP+TN/Total\n",
        "\n",
        "Precison = TP/(TP+FP)\n",
        "\n",
        "Recall = TP/(TP+FN)\n",
        "\n",
        "TP = True possitive means no of possitve cases which are predicted possitive\n",
        "\n",
        "TN = True negative means no of negative cases which are predicted negative\n",
        "\n",
        "FP = False possitve means no of negative cases which are predicted possitive\n",
        "\n",
        "FN= False Negative means no of possitive cases which are predicted negative\n",
        "\n",
        "Now for our case recall will be a better option because in these case no of normal transacations will be very high than the no of fraud cases and sometime a fraud case will be predicted as normal. So, recall will give us a sense of only fraud cases\n",
        "\n",
        "Resampling\n",
        "\n",
        "in this we will resample our data with different size\n",
        "\n",
        "then we will try to use this resampled data to train our model\n",
        "\n",
        "then we will use this model to predict for our original data"
      ],
      "outputs": [],
      "execution_count": null
    },
    {
      "cell_type": "code",
      "execution_count": null,
      "metadata": {
        "_cell_guid": "df60d504-c140-7de8-9343-bb7a4c4eb7e7",
        "_uuid": "d24d5a94042f8aa31d67fbe217ddef3c342adf41"
      },
      "outputs": [],
      "source": [
        "# for undersampling we need a portion of majority class and will take whole data of minority class\n",
        "# count fraud transaction is the total number of fraud transaction\n",
        "# now lets us see the index of fraud cases\n",
        "fraud_indices= np.array(data[data.Class==1].index)\n",
        "normal_indices = np.array(data[data.Class==0].index)\n",
        "#now let us a define a function for make undersample data with different proportion\n",
        "#different proportion means with different proportion of normal classes of data\n",
        "def undersample(normal_indices,fraud_indices,times):#times denote the normal data = times*fraud data\n",
        "    Normal_indices_undersample = np.array(np.random.choice(normal_indices,(times*Count_Fraud_transacation),replace=False))\n",
        "    undersample_data= np.concatenate([fraud_indices,Normal_indices_undersample])\n",
        "    undersample_data = data.iloc[undersample_data,:]\n",
        "    \n",
        "    print(\"the normal transacation proportion is :\",len(undersample_data[undersample_data.Class==0])/len(undersample_data[undersample_data.Class]))\n",
        "    print(\"the fraud transacation proportion is :\",len(undersample_data[undersample_data.Class==1])/len(undersample_data[undersample_data.Class]))\n",
        "    print(\"total number of record in resampled data is:\",len(undersample_data[undersample_data.Class]))\n",
        "    return(undersample_data)"
      ]
    },
    {
      "cell_type": "code",
      "execution_count": null,
      "metadata": {
        "_cell_guid": "12f3b2ed-4231-cddc-9959-d13491af2497",
        "_uuid": "0264a59e5435e0f29ef53237902b98e047f3873b"
      },
      "outputs": [],
      "source": [
        "## first make a model function for modeling with confusion matrix\n",
        "def model(model,features_train,features_test,labels_train,labels_test):\n",
        "    clf= model\n",
        "    clf.fit(features_train,labels_train.values.ravel())\n",
        "    pred=clf.predict(features_test)\n",
        "    cnf_matrix=confusion_matrix(labels_test,pred)\n",
        "    print(\"the recall for this model is :\",cnf_matrix[1,1]/(cnf_matrix[1,1]+cnf_matrix[1,0]))\n",
        "    fig= plt.figure(figsize=(6,3))# to plot the graph\n",
        "    print(\"TP\",cnf_matrix[1,1,]) # no of fraud transaction which are predicted fraud\n",
        "    print(\"TN\",cnf_matrix[0,0]) # no. of normal transaction which are predited normal\n",
        "    print(\"FP\",cnf_matrix[0,1]) # no of normal transaction which are predicted fraud\n",
        "    print(\"FN\",cnf_matrix[1,0]) # no of fraud Transaction which are predicted normal\n",
        "    sns.heatmap(cnf_matrix,cmap=\"coolwarm_r\",annot=True,linewidths=0.5)\n",
        "    plt.title(\"Confusion_matrix\")\n",
        "    plt.xlabel(\"Predicted_class\")\n",
        "    plt.ylabel(\"Real class\")\n",
        "    plt.show()\n",
        "    print(\"\\n----------Classification Report------------------------------------\")\n",
        "    print(classification_report(labels_test,pred))\n",
        "    "
      ]
    },
    {
      "cell_type": "code",
      "execution_count": null,
      "metadata": {
        "_cell_guid": "4990e8ea-0e93-342c-4c1a-39117c1814d3",
        "_uuid": "61f2cd669c51eb932ca860cb8aa7440bd9a22a12"
      },
      "outputs": [],
      "source": [
        "def data_prepration(x): # preparing data for training and testing as we are going to use different data \n",
        "    #again and again so make a function\n",
        "    x_features= x.ix[:,x.columns != \"Class\"]\n",
        "    x_labels=x.ix[:,x.columns==\"Class\"]\n",
        "    x_features_train,x_features_test,x_labels_train,x_labels_test = train_test_split(x_features,x_labels,test_size=0.3)\n",
        "    print(\"length of training data\")\n",
        "    print(len(x_features_train))\n",
        "    print(\"length of test data\")\n",
        "    print(len(x_features_test))\n",
        "    return(x_features_train,x_features_test,x_labels_train,x_labels_test)"
      ]
    },
    {
      "cell_type": "code",
      "execution_count": null,
      "metadata": {
        "_cell_guid": "8c5529ce-71ca-b24b-b544-e3d1443115f9",
        "_uuid": "d6216a5fb01da9d0d07b816b8fa2805b69ae5f90"
      },
      "outputs": [],
      "source": [
        "# before starting we should standridze our ampount column\n",
        "data[\"Normalized Amount\"] = StandardScaler().fit_transform(data['Amount'].reshape(-1, 1))\n",
        "data.drop([\"Time\",\"Amount\"],axis=1,inplace=True)\n",
        "data.head()"
      ]
    },
    {
      "cell_type": "markdown",
      "metadata": {
        "_cell_guid": "95e5165c-4ad8-1a17-021c-9024c26bd80a",
        "_uuid": "f693c4f634616b0a024f8e0d5b921b7c528b8893"
      },
      "source": [
        "### Logistic Regression with Undersample Data"
      ],
      "outputs": [],
      "execution_count": null
    },
    {
      "cell_type": "code",
      "execution_count": null,
      "metadata": {
        "_cell_guid": "cebaabc9-548c-81b1-c0bf-e0ef638cab2a",
        "_uuid": "87cfdd75e95ebc4324ee2366458883f7b27eae3d"
      },
      "outputs": [],
      "source": [
        "# Now make undersample data with differnt portion\n",
        "# here i will take normal trasaction in  0..5 %, 0.66% and 0.75 % proportion of total data now do this for \n",
        "for i in range(1,4):\n",
        "    print(\"the undersample data for {} proportion\".format(i))\n",
        "    print()\n",
        "    Undersample_data = undersample(normal_indices,fraud_indices,i)\n",
        "    print(\"------------------------------------------------------------\")\n",
        "    print()\n",
        "    print(\"the model classification for {} proportion\".format(i))\n",
        "    print()\n",
        "    undersample_features_train,undersample_features_test,undersample_labels_train,undersample_labels_test=data_prepration(Undersample_data)\n",
        "    print()\n",
        "    clf=LogisticRegression()\n",
        "    model(clf,undersample_features_train,undersample_features_test,undersample_labels_train,undersample_labels_test)\n",
        "    print(\"________________________________________________________________________________________________________\")\n",
        "    \n",
        "# here 1st proportion conatain 50% normal transaction\n",
        "#Proportion 2nd contains 66% noraml transaction\n",
        "#proportion 3rd contains 75 % normal transaction"
      ]
    },
    {
      "cell_type": "markdown",
      "metadata": {
        "_cell_guid": "6dc3fc4b-a979-60ce-5c86-e2d912b65e57",
        "_uuid": "d31648e879c9ba93ef8ae2e658397fb35862884f"
      },
      "source": [
        " 1. As the number of normal transaction is increasing the recall for fraud transcation is decreasing\n",
        " 2. TP = no of fraud transaction which are predicted fraud\n",
        " 3.  TN = no. of normal transaction which are predicted normal\n",
        " 4.  FP =  no of normal transaction which are predicted fraud\n",
        " 5.  FN =no of fraud Transaction which are predicted normal"
      ],
      "outputs": [],
      "execution_count": null
    },
    {
      "cell_type": "code",
      "execution_count": null,
      "metadata": {
        "_cell_guid": "8386da63-0882-bc9c-e84b-c679d307c341",
        "_uuid": "96d46679f03d6f3d0d799904f5c0d760c63849f2"
      },
      "outputs": [],
      "source": [
        "#let us train this model using undersample data and test for the whole data test set \n",
        "for i in range(1,4):\n",
        "    print(\"the undersample data for {} proportion\".format(i))\n",
        "    print()\n",
        "    Undersample_data = undersample(normal_indices,fraud_indices,i)\n",
        "    print(\"------------------------------------------------------------\")\n",
        "    print()\n",
        "    print(\"the model classification for {} proportion\".format(i))\n",
        "    print()\n",
        "    undersample_features_train,undersample_features_test,undersample_labels_train,undersample_labels_test=data_prepration(Undersample_data)\n",
        "    data_features_train,data_features_test,data_labels_train,data_labels_test=data_prepration(data) \n",
        "    #the partion for whole data\n",
        "    print()\n",
        "    clf=LogisticRegression()\n",
        "    model(clf,undersample_features_train,data_features_test,undersample_labels_train,data_labels_test)\n",
        "    # here training for the undersample data but tatsing for whole data\n",
        "    print(\"_________________________________________________________________________________________\")"
      ]
    },
    {
      "cell_type": "markdown",
      "metadata": {
        "_cell_guid": "f7d70d65-2785-06aa-781a-334052095a1d",
        "_uuid": "a04e72d966c60fc433224c7aedbe2174ff8c5cc9"
      },
      "source": [
        "1. Here we can see it is following same recall pattern as it  was for under sample data that's sounds good but if we have look at the precision is very less\n",
        "\n",
        "2. So we should built a model which is correct overall\n",
        "\n",
        "3. Precision is less means we are predicting other class wrong like as for our third part  there were 953 transaction are predicted fraud it means we and recall is good then it means we are catching fraud transaction very well but we are catching innocent transaction also i.e which are not fraud.\n",
        "\n",
        "4. So with recall our precision should be better\n",
        "\n",
        "5. if we go by this model then we are going to put 953 innocents in jail with the all criminal who have actually done this\n",
        "6. Hence we are mainly lacking in the precision how can we increase our precision\n",
        "7. Don't get confuse with above output showing that the two training data and two test data first one is for undersample data  while another one is for our whole data"
      ],
      "outputs": [],
      "execution_count": null
    },
    {
      "cell_type": "markdown",
      "metadata": {
        "_cell_guid": "f375e55d-d9c6-6e87-6d60-b18afc2e65b2",
        "_uuid": "630cc022f593bdd991ff029a880114482325961c"
      },
      "source": [
        "1.**Try with SVM and then Random Forest in same Manner**\n",
        "\n",
        "2. from Random forest we can get which features are more important"
      ],
      "outputs": [],
      "execution_count": null
    },
    {
      "cell_type": "markdown",
      "metadata": {
        "_cell_guid": "45540e79-c2e0-4b52-6b55-5e3c8bb2f397",
        "_uuid": "ff112d1b365573c9c3b95dc5a8b53167faf355d8"
      },
      "source": [
        "*SVM with Undersample data*"
      ],
      "outputs": [],
      "execution_count": null
    },
    {
      "cell_type": "code",
      "execution_count": null,
      "metadata": {
        "_cell_guid": "ff78a5e3-dd54-5626-b505-9022a21690c5",
        "_uuid": "d4944333a1e99f16565ddac2a79c271d4f1d2c8c"
      },
      "outputs": [],
      "source": [
        "for i in range(1,4):\n",
        "    print(\"the undersample data for {} proportion\".format(i))\n",
        "    print()\n",
        "    Undersample_data = undersample(normal_indices,fraud_indices,i)\n",
        "    print(\"------------------------------------------------------------\")\n",
        "    print()\n",
        "    print(\"the model classification for {} proportion\".format(i))\n",
        "    print()\n",
        "    undersample_features_train,undersample_features_test,undersample_labels_train,undersample_labels_test=data_prepration(Undersample_data)\n",
        "    print()\n",
        "    clf= SVC()# here we are just changing classifier\n",
        "    model(clf,undersample_features_train,undersample_features_test,undersample_labels_train,undersample_labels_test)\n",
        "    print(\"________________________________________________________________________________________________________\")\n",
        "    "
      ]
    },
    {
      "cell_type": "markdown",
      "metadata": {
        "_cell_guid": "6f479f7b-48de-778a-bae3-85fafa34f5a1",
        "_uuid": "f9f8fd2171fe1cdd55dc586897f5915237b4d6f2"
      },
      "source": [
        "1. Here recall and precision are approximately equal to Logistic Regression \n",
        "\n",
        "2. Lets try for whole data"
      ],
      "outputs": [],
      "execution_count": null
    },
    {
      "cell_type": "code",
      "execution_count": null,
      "metadata": {
        "_cell_guid": "421e574f-9fc1-af06-b54d-ce2dd2d6b51d",
        "_uuid": "11f3edd37b464df961895ea511e01c9c31231e0d"
      },
      "outputs": [],
      "source": [
        "#let us train this model using undersample data and test for the whole data test set \n",
        "for i in range(1,4):\n",
        "    print(\"the undersample data for {} proportion\".format(i))\n",
        "    print()\n",
        "    Undersample_data = undersample(normal_indices,fraud_indices,i)\n",
        "    print(\"------------------------------------------------------------\")\n",
        "    print()\n",
        "    print(\"the model classification for {} proportion\".format(i))\n",
        "    print()\n",
        "    undersample_features_train,undersample_features_test,undersample_labels_train,undersample_labels_test=data_prepration(Undersample_data)\n",
        "    data_features_train,data_features_test,data_labels_train,data_labels_test=data_prepration(data) \n",
        "    #the partion for whole data\n",
        "    print()\n",
        "    clf=SVC()\n",
        "    model(clf,undersample_features_train,data_features_test,undersample_labels_train,data_labels_test)\n",
        "    # here training for the undersample data but tatsing for whole data\n",
        "    print(\"_________________________________________________________________________________________\")"
      ]
    },
    {
      "cell_type": "markdown",
      "metadata": {
        "_cell_guid": "35809c9d-f0ed-bffb-5a5d-4276b8baf8e8",
        "_uuid": "18f8cc024cfb8f68403bb3bcb306ad12b6258de2"
      },
      "source": [
        "1. A better recall but precision is not improving much \n",
        "\n",
        "2 .so to improve precision we must have to tune the  hyper parameter of these models\n",
        "\n",
        "3 That I will do in next version \n",
        "\n",
        "4 For now lets try with my favorite Random Forest classifier "
      ],
      "outputs": [],
      "execution_count": null
    },
    {
      "cell_type": "code",
      "execution_count": null,
      "metadata": {
        "_cell_guid": "3a5628e6-25ce-f859-129e-08c2af9f1c91",
        "_uuid": "eda343951ec057938a88aef48e6dff83d8c7b197"
      },
      "outputs": [],
      "source": [
        "# Random Forest Classifier with undersample data only\n",
        "for i in range(1,4):\n",
        "    print(\"the undersample data for {} proportion\".format(i))\n",
        "    print()\n",
        "    Undersample_data = undersample(normal_indices,fraud_indices,i)\n",
        "    print(\"------------------------------------------------------------\")\n",
        "    print()\n",
        "    print(\"the model classification for {} proportion\".format(i))\n",
        "    print()\n",
        "    undersample_features_train,undersample_features_test,undersample_labels_train,undersample_labels_test=data_prepration(Undersample_data)\n",
        "    print()\n",
        "    clf= RandomForestClassifier(n_estimators=100)# here we are just changing classifier\n",
        "    model(clf,undersample_features_train,undersample_features_test,undersample_labels_train,undersample_labels_test)\n",
        "    print(\"________________________________________________________________________________________________________\")\n",
        "    "
      ]
    },
    {
      "cell_type": "code",
      "execution_count": null,
      "metadata": {
        "_cell_guid": "15036191-41bd-e56f-027b-de4f22814380",
        "_uuid": "79e076a4d3a90b65f547f19a056317510813dd26"
      },
      "outputs": [],
      "source": [
        "#let us train this model using undersample data and test for the whole data test set \n",
        "for i in range(1,4):\n",
        "    print(\"the undersample data for {} proportion\".format(i))\n",
        "    print()\n",
        "    Undersample_data = undersample(normal_indices,fraud_indices,i)\n",
        "    print(\"------------------------------------------------------------\")\n",
        "    print()\n",
        "    print(\"the model classification for {} proportion\".format(i))\n",
        "    print()\n",
        "    undersample_features_train,undersample_features_test,undersample_labels_train,undersample_labels_test=data_prepration(Undersample_data)\n",
        "    data_features_train,data_features_test,data_labels_train,data_labels_test=data_prepration(data) \n",
        "    #the partion for whole data\n",
        "    print()\n",
        "    clf=RandomForestClassifier(n_estimators=100)\n",
        "    model(clf,undersample_features_train,data_features_test,undersample_labels_train,data_labels_test)\n",
        "    # here training for the undersample data but tatsing for whole data\n",
        "    print(\"_________________________________________________________________________________________\")"
      ]
    },
    {
      "cell_type": "markdown",
      "metadata": {
        "_cell_guid": "281c3b33-2a4f-fa5b-b683-bcc9b8620a4b",
        "_uuid": "4364d4d7ef75c6bb656a2f9dfe9d14ecba51295b"
      },
      "source": [
        "1. for the third proportion the precision is 0.33 which is better than others\n",
        "\n",
        "2. Lets try to get only import features using  Random Forest Classifier \n",
        "\n",
        "3. After it i will do analysis only for one portion that is 0.5 %"
      ],
      "outputs": [],
      "execution_count": null
    },
    {
      "cell_type": "code",
      "execution_count": null,
      "metadata": {
        "_cell_guid": "4d65aa61-7029-01cc-f1ff-90b919e86375",
        "_uuid": "64b52f81a66dfb991f57af75cab6a08ba0178888"
      },
      "outputs": [],
      "source": [
        "featimp = pd.Series(clf.feature_importances_,index=data_features_train.columns).sort_values(ascending=False)\n",
        "print(featimp) # this is the property of Random Forest classifier that it provide us the importance \n",
        "# of the features use"
      ]
    },
    {
      "cell_type": "markdown",
      "metadata": {
        "_cell_guid": "e2bd6d67-b2d6-c115-0fa4-dd79467b3274",
        "_uuid": "980c746b53fb7249b44e8958654cf75287d50969"
      },
      "source": [
        "1.  we can see this is showing the importance of feature for the making decision \n",
        "\n",
        "2. V14 is having a very good importance compare to other features\n",
        "\n",
        "3. Lets use only top 5 (V14,V10,V12,V17,V4) feature to predict using Random forest classifier only for 0.5 % "
      ],
      "outputs": [],
      "execution_count": null
    },
    {
      "cell_type": "code",
      "execution_count": null,
      "metadata": {
        "_cell_guid": "609033b6-4bb4-e70c-98cc-308e66146c9b",
        "_uuid": "3c585b5579cf264d32b653d7527a217f7f33127b"
      },
      "outputs": [],
      "source": [
        "# make a new data with only class and V14\n",
        "data1=data[[\"V14\",\"V10\",\"V12\",\"V17\",\"V4\",\"Class\"]]\n",
        "data1.head()"
      ]
    },
    {
      "cell_type": "code",
      "execution_count": null,
      "metadata": {
        "_cell_guid": "73f9712b-81d4-beed-611e-519d885e6519",
        "_uuid": "70d7064ba140ee9586a3df1e6af54729c813a035"
      },
      "outputs": [],
      "source": [
        "Undersample_data1 = undersample(normal_indices,fraud_indices,1)\n",
        "#only for 50 % proportion it means normal transaction and fraud transaction are equal so passing \n",
        "Undersample_data1_features_train,Undersample_data1_features_test,Undersample_data1_labels_train,Undersample_data1_labels_test = data_prepration(Undersample_data1)"
      ]
    },
    {
      "cell_type": "code",
      "execution_count": null,
      "metadata": {
        "_cell_guid": "c4be1eb4-38d4-4aad-7ed6-ecc0a6965c8a",
        "_uuid": "af56b1edb308c0db54f5b7f3314de7325db3174b"
      },
      "outputs": [],
      "source": [
        "clf= RandomForestClassifier(n_estimators=100)\n",
        "model(clf,Undersample_data1_features_train,Undersample_data1_features_test,Undersample_data1_labels_train,Undersample_data1_labels_test)"
      ]
    },
    {
      "cell_type": "markdown",
      "metadata": {
        "_cell_guid": "651a09d1-bc75-e3bf-7c7f-743b832bbd05",
        "_uuid": "c4788350aecc0056c7dced8207ae33bbeefdddbc"
      },
      "source": [
        "###Over Sampling"
      ],
      "outputs": [],
      "execution_count": null
    },
    {
      "cell_type": "markdown",
      "metadata": {
        "_cell_guid": "d81c2e60-996a-cfe1-29eb-99f389184875",
        "_uuid": "b32e62b69513155007c3c0c17ab44c3ccfd6f8f6"
      },
      "source": [
        " 1. In my previous version I got the 100 recall and 98 % precision by using Random forest with the over sampled data but in real it was due to over fitting because i was taking whole fraud data and was training for that and I was doing the testing on the same data.\n",
        "\n",
        " 2. Please find link of previous version for more understanding [Link](https://www.kaggle.com/gargmanish/d/dalpozz/creditcardfraud/fraud-detection-100-recall-98-precision/run/1033018)\n",
        "\n",
        "3. Thanks to Mr. Dominik Stuerzer for help "
      ],
      "outputs": [],
      "execution_count": null
    },
    {
      "cell_type": "code",
      "execution_count": null,
      "metadata": {
        "_cell_guid": "790cdeb8-dcb6-42f2-7d1c-88745940a019",
        "_uuid": "06ca51fd5efb30b4c00ba42bcfe60599401a0459"
      },
      "outputs": [],
      "source": [
        "# now we will divied our data sets into two part and we will train and test and will oversample the train data and predict for test data\n",
        "# lets import data again\n",
        "data = pd.read_csv(\"../input/creditcard.csv\",header = 0)\n",
        "print(\"length of training data\",len(data))\n",
        "print(\"length of normal data\",len(data[data[\"Class\"]==0]))\n",
        "print(\"length of fraud  data\",len(data[data[\"Class\"]==1]))"
      ]
    },
    {
      "cell_type": "code",
      "execution_count": null,
      "metadata": {
        "_cell_guid": "18eb81f6-3851-3e3f-bb1b-b50b0d3b34f3",
        "_uuid": "876b46bbb177f2bf66c5032bd27cea31e67f07d5"
      },
      "outputs": [],
      "source": [
        "data_train_X,data_test_X,data_train_y,data_test_y=data_prepration(data)\n",
        "data_train_X.columns\n",
        "data_train_y.columns"
      ]
    },
    {
      "cell_type": "code",
      "execution_count": null,
      "metadata": {
        "_cell_guid": "1507f0e1-ef07-8565-da7a-65e22b5b87ee",
        "_uuid": "b3273f5e31aa81c7781c710afc860971abd54bd6"
      },
      "outputs": [],
      "source": [
        "# ok Now we have a traing data\n",
        "data_train_X[\"Class\"]= data_train_y[\"Class\"] # combining class with original data\n",
        "data_train = data_train_X.copy() # for naming conevntion\n",
        "print(\"length of training data\",len(data_train))\n",
        "# Now make data set of normal transction from train data\n",
        "normal_data = data_train[data_train[\"Class\"]==0]\n",
        "print(\"length of normal data\",len(normal_data))\n",
        "fraud_data = data_train[data_train[\"Class\"]==1]\n",
        "print(\"length of fraud data\",len(fraud_data))"
      ]
    },
    {
      "cell_type": "code",
      "execution_count": null,
      "metadata": {
        "_cell_guid": "29c2774c-9633-c9a1-1d71-c86eb92506f2",
        "_uuid": "2b09d043aaad8ac360b887f60d190bc46ab4bd02"
      },
      "outputs": [],
      "source": [
        "# Now start oversamoling of training data \n",
        "# means we will duplicate many times the value of fraud data\n",
        "for i in range (365): # the number is choosen by myself on basis of nnumber of fraud transaction\n",
        "    normal_data= normal_data.append(fraud_data)\n",
        "os_data = normal_data.copy() \n",
        "print(\"length of oversampled data is \",len(os_data))\n",
        "print(\"Number of normal transcation in oversampled data\",len(os_data[os_data[\"Class\"]==0]))\n",
        "print(\"No.of fraud transcation\",len(os_data[os_data[\"Class\"]==1]))\n",
        "print(\"Proportion of Normal data in oversampled data is \",len(os_data[os_data[\"Class\"]==0])/len(os_data))\n",
        "print(\"Proportion of fraud data in oversampled data is \",len(os_data[os_data[\"Class\"]==1])/len(os_data))"
      ]
    },
    {
      "cell_type": "markdown",
      "metadata": {
        "_cell_guid": "7db27f2c-d6fb-d903-932f-2db782c8e43f",
        "_uuid": "5a37691bcc487c20ea7df0c5537b64168b98a8fd"
      },
      "source": [
        " 1. The proportion now becomes the 60 % and 40 % that is good now"
      ],
      "outputs": [],
      "execution_count": null
    },
    {
      "cell_type": "code",
      "execution_count": null,
      "metadata": {
        "_cell_guid": "2d1ab58d-f74f-93da-a441-11f9e130b600",
        "_uuid": "80e724ab2ea7b90646d19d21f9b66cd567271f82"
      },
      "outputs": [],
      "source": [
        "# before applying any model standerdize our data amount \n",
        "os_data[\"Normalized Amount\"] = StandardScaler().fit_transform(os_data['Amount'].reshape(-1, 1))\n",
        "os_data.drop([\"Time\",\"Amount\"],axis=1,inplace=True)\n",
        "os_data.head()\n"
      ]
    },
    {
      "cell_type": "code",
      "execution_count": null,
      "metadata": {
        "_cell_guid": "9ba7423e-7d1f-b1cc-81f9-a5c18e35fcfe",
        "_uuid": "c277e2bfe49629fd52e76139a837f740227806f5"
      },
      "outputs": [],
      "source": [
        "# Now use this oversampled data for trainig the model and predict value for the test data that we created before\n",
        "# now let us try within the the oversampled data itself\n",
        "# for that we need to split our oversampled data into train and test\n",
        "# so call our function data Prepration with oversampled data\n",
        "os_train_X,os_test_X,os_train_y,os_test_y=data_prepration(os_data)\n",
        "clf= RandomForestClassifier(n_estimators=100)\n",
        "model(clf,os_train_X,os_test_X,os_train_y,os_test_y)"
      ]
    },
    {
      "cell_type": "markdown",
      "metadata": {
        "_cell_guid": "5d82cb81-3be2-0c73-74e6-0ee28311398f",
        "_uuid": "7adb49813ef7f4bc372730cdc75e68fa21a53be6"
      },
      "source": [
        "**Observations**\n",
        "\n",
        " 1. As it have too many sample of  same fraud data so may be the all which are present in train data are present in test data also so we can say it is over fitting \n",
        " 2. So lets try with test data that one which we created in starting of oversampling segment no fraud transaction from that data have been repeated here\n",
        " 3. Lets try\n",
        "\n",
        " "
      ],
      "outputs": [],
      "execution_count": null
    },
    {
      "cell_type": "code",
      "execution_count": null,
      "metadata": {
        "_cell_guid": "afbe419c-4309-51d9-e860-6730afbdae95",
        "_uuid": "9d6f0cad0b08d38a284e49b8835606822298c55c"
      },
      "outputs": [],
      "source": [
        "# now take all over sampled data as trainging and test it for test data\n",
        "os_data_X = os_data.ix[:,os_data.columns != \"Class\"]\n",
        "os_data_y = os_data.ix[:,os_data.columns == \"Class\"]\n",
        "#for that we have to standrdize the normal amount and drop the time from it\n",
        "data_test_X[\"Normalized Amount\"] = StandardScaler().fit_transform(data_test_X['Amount'].reshape(-1, 1))\n",
        "data_test_X.drop([\"Time\",\"Amount\"],axis=1,inplace=True)\n",
        "data_test_X.head()\n",
        "\n"
      ]
    },
    {
      "cell_type": "code",
      "execution_count": null,
      "metadata": {
        "_cell_guid": "caea4e43-aa7d-c1f6-04a0-be33c13d503e",
        "_uuid": "6a158153a6b281132a7a9b452fb127c0289f4162"
      },
      "outputs": [],
      "source": [
        "# now use it for modeling\n",
        "clf= RandomForestClassifier(n_estimators=100)\n",
        "model(clf,os_data_X,data_test_X,os_data_y,data_test_y)"
      ]
    },
    {
      "cell_type": "markdown",
      "metadata": {
        "_cell_guid": "5f625858-5e45-49c3-bb44-8e6c66daffd7",
        "_uuid": "80d0f3e641b75c8fad7291bd4c5b4b06287b26f3"
      },
      "source": [
        "**Observations**\n",
        "\n",
        " 1. Now here we can see recall decrease to only 83 % which is not bad  but not good also\n",
        " 2. The precision is 0.93 which is good \n",
        " 3. from these observation we can say that the oversampling is better than the Under sampling because on Under sampling we were loosing a large amount of data or we can say a good amount of information so why the there precision was very low "
      ],
      "outputs": [],
      "execution_count": null
    },
    {
      "cell_type": "markdown",
      "metadata": {
        "_cell_guid": "5c41995b-c8fa-554c-92a3-b2076522917c",
        "_uuid": "bdbfd2bcc57e452e6e7f7008877679782c7f8b33"
      },
      "source": [
        "###SMOTE"
      ],
      "outputs": [],
      "execution_count": null
    },
    {
      "cell_type": "code",
      "execution_count": null,
      "metadata": {
        "_cell_guid": "54995fac-4954-1b8c-948d-466017159b0d",
        "_uuid": "a237914c97a26ecdeea0a2d121a820e47444f0ce"
      },
      "outputs": [],
      "source": [
        "# Lets Use SMOTE for Sampling\n",
        "# As I mentioned it is also a type of oversampling but in this the data is not replicated but they are created \n",
        "#lets start with importing libraries\n",
        "from imblearn.over_sampling import SMOTE\n",
        "data = pd.read_csv('../input/creditcard.csv')"
      ]
    },
    {
      "cell_type": "code",
      "execution_count": null,
      "metadata": {
        "_cell_guid": "9cc6383f-5f47-511a-ef25-8da061390d34",
        "_uuid": "90561097da63dacf5d40588c1aea8338da8dc2b4"
      },
      "outputs": [],
      "source": [
        "os = SMOTE(random_state=0) #   We are using SMOTE as the function for oversampling\n",
        "# now we can devided our data into training and test data\n",
        "# Call our method data prepration on our dataset\n",
        "data_train_X,data_test_X,data_train_y,data_test_y=data_prepration(data)\n",
        "columns = data_train_X.columns\n"
      ]
    },
    {
      "cell_type": "code",
      "execution_count": null,
      "metadata": {
        "_cell_guid": "54312e1d-58d8-184f-8596-48a8084a0ee7",
        "_uuid": "29c72212111702b1a7fd98d4a9fb0f44f4ef41e7"
      },
      "outputs": [],
      "source": [
        "# now use SMOTE to oversample our train data which have features data_train_X and labels in data_train_y\n",
        "os_data_X,os_data_y=os.fit_sample(data_train_X,data_train_y)\n",
        "os_data_X = pd.DataFrame(data=os_data_X,columns=columns )\n",
        "os_data_y= pd.DataFrame(data=os_data_y,columns=[\"Class\"])\n",
        "# we can Check the numbers of our data\n",
        "print(\"length of oversampled data is \",len(os_data_X))\n",
        "print(\"Number of normal transcation in oversampled data\",len(os_data_y[os_data_y[\"Class\"]==0]))\n",
        "print(\"No.of fraud transcation\",len(os_data_y[os_data_y[\"Class\"]==1]))\n",
        "print(\"Proportion of Normal data in oversampled data is \",len(os_data_y[os_data_y[\"Class\"]==0])/len(os_data_X))\n",
        "print(\"Proportion of fraud data in oversampled data is \",len(os_data_y[os_data_y[\"Class\"]==1])/len(os_data_X))"
      ]
    },
    {
      "cell_type": "markdown",
      "metadata": {
        "_cell_guid": "59f55f2a-cb6a-47d9-7e8a-67a7af8e89a5",
        "_uuid": "e64e4a33bd8d2ba9799e68a59b8825b36fc970ce"
      },
      "source": [
        " 1. By using Smote we are getting a 50 - 50 each\n",
        "\n",
        " 2. No need of checking here in over sampled data itself from previous we know it will be overfitting\n",
        "\n",
        " 3. let us check with the test data direct\n"
      ],
      "outputs": [],
      "execution_count": null
    },
    {
      "cell_type": "code",
      "execution_count": null,
      "metadata": {
        "_cell_guid": "4f9b50e0-433d-607b-e082-84d88467b705",
        "_uuid": "b25fa1927db922cd175491042649b45377d66018"
      },
      "outputs": [],
      "source": [
        "# Let us first do our amount normalised and other that we are doing above\n",
        "os_data_X[\"Normalized Amount\"] = StandardScaler().fit_transform(os_data_X['Amount'].reshape(-1, 1))\n",
        "os_data_X.drop([\"Time\",\"Amount\"],axis=1,inplace=True)\n",
        "data_test_X[\"Normalized Amount\"] = StandardScaler().fit_transform(data_test_X['Amount'].reshape(-1, 1))\n",
        "data_test_X.drop([\"Time\",\"Amount\"],axis=1,inplace=True)\n"
      ]
    },
    {
      "cell_type": "code",
      "execution_count": null,
      "metadata": {
        "_cell_guid": "d15d05b6-18d4-85cd-2488-527a8333e203",
        "_uuid": "bebc0090ba71e542000fcf40b91de02625981cd4"
      },
      "outputs": [],
      "source": [
        "# Now start modeling\n",
        "clf= RandomForestClassifier(n_estimators=100)\n",
        "# train data using oversampled data and predict for the test data\n",
        "model(clf,os_data_X,data_test_X,os_data_y,data_test_y)"
      ]
    },
    {
      "cell_type": "markdown",
      "metadata": {
        "_cell_guid": "953729c6-5ef8-4a49-18ca-7444a5df6ba0",
        "_uuid": "a70482dddc2048c8fcc85fd1a9b34a8eb2f368cf"
      },
      "source": [
        "**observation **\n",
        "\n",
        " 1. The recall is nearby the previous one done by over sampling \n",
        " 2. The precision decrease in this case"
      ],
      "outputs": [],
      "execution_count": null
    },
    {
      "cell_type": "code",
      "execution_count": null,
      "metadata": {
        "_cell_guid": "af98be8c-a128-5300-1317-22069454181e",
        "_uuid": "58238a9c721fac851c8466237429013e2367126a"
      },
      "outputs": [],
      "source": [
        ""
      ]
    }
  ],
  "metadata": {
    "_change_revision": 0,
    "_is_fork": false,
    "kernelspec": {
      "display_name": "Python 3",
      "language": "python",
      "name": "python3"
    },
    "language_info": {
      "name": "python",
      "version": "3.6.0",
      "mimetype": "text/x-python",
      "codemirror_mode": {
        "name": "ipython",
        "version": 3
      },
      "pygments_lexer": "ipython3",
      "nbconvert_exporter": "python",
      "file_extension": ".py"
    }
  },
  "nbformat": 4,
  "nbformat_minor": 0
}